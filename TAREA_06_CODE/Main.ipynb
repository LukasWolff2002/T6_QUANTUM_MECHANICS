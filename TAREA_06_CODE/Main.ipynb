{
 "cells": [
  {
   "cell_type": "markdown",
   "id": "76f2f257",
   "metadata": {},
   "source": [
    "### PARTE01"
   ]
  },
  {
   "cell_type": "code",
   "execution_count": 1,
   "id": "c3154c88",
   "metadata": {},
   "outputs": [],
   "source": [
    "import random\n",
    "import matplotlib.pyplot as plt\n",
    "import pandas as pd"
   ]
  },
  {
   "cell_type": "code",
   "execution_count": 2,
   "id": "68295f18",
   "metadata": {},
   "outputs": [],
   "source": [
    "# Generamos bits y bases aleatorias\n",
    "def generar_bits_bases(n=1000, seed=42):\n",
    "    random.seed(seed)\n",
    "    bits = [random.randint(0, 1) for _ in range(n)]\n",
    "    bases = [random.choice(['R', 'D']) for _ in range(n)]\n",
    "    return bits, bases\n",
    "# Guardar .txt\n",
    "def guardar_archivo(nombre, bits, bases):\n",
    "    with open(nombre, 'w') as f:\n",
    "        f.write('Bit Base\\n')\n",
    "        for b, bs in zip(bits, bases):\n",
    "            f.write(f'{b} {bs}\\n')\n",
    "# Comparar bases\n",
    "def comparar_bases(bits_a, bases_a, bases_b):\n",
    "    clave = []\n",
    "    for bit, ba, bb in zip(bits_a, bases_a, bases_b):\n",
    "        if ba == bb:\n",
    "            clave.append(bit)\n",
    "    return clave\n",
    "# Verificar error con un n\n",
    "def verificar_error(clave_a, clave_b, n=50):\n",
    "    muestra_a = clave_a[:n]\n",
    "    muestra_b = clave_b[:n]\n",
    "    errores = sum(a != b for a, b in zip(muestra_a, muestra_b))\n",
    "    return errores / n\n",
    "\n",
    "\n",
    "# Funcion para Eve\n",
    "def eve_intercept(bits_alice, bases_alice, seed=42):\n",
    "    random.seed(seed)\n",
    "    n = len(bits_alice)\n",
    "    eve_bases = [random.choice(['R', 'D']) for _ in range(n)]\n",
    "    eve_bits = [bit if ba == be else random.randint(0, 1)\n",
    "                for bit, ba, be in zip(bits_alice, bases_alice, eve_bases)]\n",
    "    return eve_bits, eve_bases\n",
    "\n"
   ]
  },
  {
   "cell_type": "code",
   "execution_count": 3,
   "id": "de302263",
   "metadata": {},
   "outputs": [],
   "source": [
    "n_total=1000\n",
    "n_comparar=100"
   ]
  },
  {
   "cell_type": "code",
   "execution_count": 5,
   "id": "fa3e6585",
   "metadata": {},
   "outputs": [],
   "source": [
    "alice_bits, alice_bases = generar_bits_bases(n=n_total,seed=2025+10+28)\n",
    "bob_bases = generar_bits_bases(n=n_total, seed=2025+10+28)[1]\n",
    "\n",
    "guardar_archivo('alice_bb84.txt', alice_bits, alice_bases)\n",
    "guardar_archivo('bob_bb84_bases.txt', [0]*n_total, bob_bases)"
   ]
  },
  {
   "cell_type": "code",
   "execution_count": 6,
   "id": "f6cfba2b",
   "metadata": {},
   "outputs": [
    {
     "name": "stdout",
     "output_type": "stream",
     "text": [
      "Longitud clave compartida: 1000\n",
      "QBER: 0.0\n",
      "Bits totales: 1000\n",
      "Bits válidos (bases coincidentes): 1000\n",
      "Unos: 521  (52.1%)\n",
      "Ceros: 479  (47.9%)\n"
     ]
    }
   ],
   "source": [
    "clave_compartida = comparar_bases(alice_bits, alice_bases, bob_bases)\n",
    "tasa_error = verificar_error(clave_compartida, clave_compartida , n=n_comparar)\n",
    "\n",
    "print('Longitud clave compartida:', len(clave_compartida))\n",
    "print('QBER:', tasa_error)\n",
    "\n",
    "# ------------------------------------------------\n",
    "n_validos = len(clave_compartida)\n",
    "n_unos = sum(clave_compartida)\n",
    "n_ceros = n_validos - n_unos\n",
    "\n",
    "print(f'Bits totales: {n_total}')\n",
    "print(f'Bits válidos (bases coincidentes): {n_validos}')\n",
    "print(f'Unos: {n_unos}  ({n_unos/n_validos*100:.1f}%)')\n",
    "print(f'Ceros: {n_ceros}  ({n_ceros/n_validos*100:.1f}%)')\n"
   ]
  },
  {
   "cell_type": "code",
   "execution_count": 7,
   "id": "9a386178",
   "metadata": {},
   "outputs": [
    {
     "data": {
      "image/png": "[encoded data removed]",
      "text/plain": [
       "<Figure size 1000x300 with 1 Axes>"
      ]
     },
     "metadata": {},
     "output_type": "display_data"
    }
   ],
   "source": [
    "# --- Gráfico de barras ---\n",
    "plt.figure(figsize=(10, 3))\n",
    "plt.bar(range(len(clave_compartida)), clave_compartida, color='tab:blue', width=1.0)\n",
    "plt.title('Clave compartida (BB84 sin intervención de Eve)', fontweight='bold')\n",
    "plt.xlabel('Índice de bit')\n",
    "plt.ylabel('Valor del bit')\n",
    "plt.ylim(0, 1.2)\n",
    "plt.tight_layout()\n",
    "plt.show()"
   ]
  },
  {
   "cell_type": "code",
   "execution_count": 8,
   "id": "8c146c91",
   "metadata": {},
   "outputs": [
    {
     "name": "stdout",
     "output_type": "stream",
     "text": [
      "   Bit_Alice Base_Alice Base_Bob  Coinciden_Bases  Bit_Compartido\n",
      "0          0          R        R             True               0\n",
      "1          0          D        D             True               0\n",
      "2          1          D        D             True               1\n",
      "3          0          R        R             True               0\n",
      "4          0          D        D             True               0\n",
      "\n",
      "Archivo 'resultados_bb84_parte1.csv' generado correctamente.\n"
     ]
    }
   ],
   "source": [
    "# Data frame\n",
    "df = pd.DataFrame({\n",
    "    \"Bit_Alice\": alice_bits,\n",
    "    \"Base_Alice\": alice_bases,\n",
    "    \"Base_Bob\": bob_bases\n",
    "})\n",
    "\n",
    "# Coincidencia de bases\n",
    "df[\"Coinciden_Bases\"] = df[\"Base_Alice\"] == df[\"Base_Bob\"]\n",
    "\n",
    "# Bit compartido: solo si las bases coinciden, en caso contrario vacío\n",
    "df[\"Bit_Compartido\"] = [\n",
    "    bit if coinc else None\n",
    "    for bit, coinc in zip(alice_bits, df[\"Coinciden_Bases\"])\n",
    "]\n",
    "\n",
    "# Guardar CSV\n",
    "df.to_csv(\"resultados_bb84_parte1.csv\", index=False)\n",
    "\n",
    "print(df.head())\n",
    "print(\"\\nArchivo 'resultados_bb84_parte1.csv' generado correctamente.\")"
   ]
  },
  {
   "cell_type": "markdown",
   "id": "3aa2645f",
   "metadata": {},
   "source": [
    "---\n",
    "\n",
    "### PARTE02"
   ]
  },
  {
   "cell_type": "code",
   "execution_count": null,
   "id": "7f0165ea",
   "metadata": {},
   "outputs": [],
   "source": [
    "guardar_archivo('alice_bb84.txt', alice_bits, alice_bases)\n",
    "guardar_archivo('bob_bb84_bases.txt', [0]*n_total, bob_bases)\n",
    "\n",
    "eve_bits, eve_bases = eve_intercept(alice_bits, alice_bases, seed=123)\n",
    "guardar_archivo('eve_bb84_bases.txt', eve_bits, eve_bases)\n",
    "\n"
   ]
  },
  {
   "cell_type": "code",
   "execution_count": 10,
   "id": "f83850a2",
   "metadata": {},
   "outputs": [],
   "source": [
    "# --- Bob mide los bits que Eve le reenvió ---\n",
    "clave_bob = comparar_bases(eve_bits, eve_bases, bob_bases)\n",
    "clave_alice = comparar_bases(alice_bits, alice_bases, bob_bases)\n"
   ]
  },
  {
   "cell_type": "code",
   "execution_count": 11,
   "id": "ad777911",
   "metadata": {},
   "outputs": [
    {
     "name": "stdout",
     "output_type": "stream",
     "text": [
      "Longitud clave compartida: 517\n",
      "QBER: 0.51\n",
      "Bits totales: 1000\n",
      "Bits válidos (bases coincidentes): 517\n",
      "Unos: 273  (52.8%)\n",
      "Ceros: 244  (47.2%)\n"
     ]
    }
   ],
   "source": [
    "# --- Cálculo del QBER ---\n",
    "tasa_error = verificar_error(clave_alice, clave_bob, n=n_comparar)\n",
    "\n",
    "# --- Métricas con intervención de Eve ---\n",
    "print('Longitud clave compartida:', len(clave_bob))\n",
    "print('QBER:', tasa_error)\n",
    "\n",
    "# ------------------------------------------------\n",
    "n_validos = len(clave_bob)\n",
    "n_unos = sum(clave_bob)\n",
    "n_ceros = n_validos - n_unos\n",
    "\n",
    "print(f'Bits totales: {n_total}')\n",
    "print(f'Bits válidos (bases coincidentes): {n_validos}')\n",
    "print(f'Unos: {n_unos}  ({n_unos/n_validos*100:.1f}%)')\n",
    "print(f'Ceros: {n_ceros}  ({n_ceros/n_validos*100:.1f}%)')\n"
   ]
  },
  {
   "cell_type": "code",
   "execution_count": 12,
   "id": "49baa7c5",
   "metadata": {},
   "outputs": [
    {
     "data": {
      "image/png": "[encoded data removed]",
      "text/plain": [
       "<Figure size 1000x300 with 1 Axes>"
      ]
     },
     "metadata": {},
     "output_type": "display_data"
    }
   ],
   "source": [
    "plt.figure(figsize=(10, 3))\n",
    "plt.bar(range(len(clave_bob)), clave_bob, color='tab:green', width=1.0)\n",
    "plt.title('Clave compartida (BB84 con intervención de Eve)', fontweight='bold')\n",
    "plt.xlabel('Índice de bit')\n",
    "plt.ylabel('Valor del bit')\n",
    "plt.ylim(0, 1.2)\n",
    "plt.tight_layout()\n",
    "plt.show()"
   ]
  },
  {
   "cell_type": "code",
   "execution_count": 13,
   "id": "47da8324",
   "metadata": {},
   "outputs": [
    {
     "name": "stdout",
     "output_type": "stream",
     "text": [
      "   Bit_Alice Base_Alice  Bit_Eve Base_Eve Base_Bob  Coinciden_Bases  Bit_Bob\n",
      "0          0          R        0        R        R             True      0.0\n",
      "1          0          D        0        D        D             True      0.0\n",
      "2          1          D        1        R        D            False      NaN\n",
      "3          0          R        0        D        R            False      NaN\n",
      "4          0          D        0        D        D             True      0.0\n",
      "\n",
      "Archivo 'resultados_bb84_parte2.csv' generado correctamente.\n"
     ]
    }
   ],
   "source": [
    "# Data frame\n",
    "df = pd.DataFrame({\n",
    "    \"Bit_Alice\": alice_bits,\n",
    "    \"Base_Alice\": alice_bases,\n",
    "    \"Bit_Eve\": eve_bits,\n",
    "    \"Base_Eve\": eve_bases,\n",
    "    \"Base_Bob\": bob_bases\n",
    "})\n",
    "\n",
    "df[\"Coinciden_Bases\"] = df[\"Base_Eve\"] == df[\"Base_Bob\"]\n",
    "\n",
    "df[\"Bit_Bob\"] = [\n",
    "    b if coinc else None\n",
    "    for b, coinc in zip(eve_bits, df[\"Coinciden_Bases\"])\n",
    "]\n",
    "\n",
    "# Guardar CSV\n",
    "df.to_csv(\"resultados_bb84_parte2.csv\", index=False)\n",
    "print(df.head())\n",
    "print(\"\\nArchivo 'resultados_bb84_parte2.csv' generado correctamente.\")\n"
   ]
  }
 ],
 "metadata": {
  "kernelspec": {
   "display_name": "clark_kent",
   "language": "python",
   "name": "python3"
  },
  "language_info": {
   "codemirror_mode": {
    "name": "ipython",
    "version": 3
   },
   "file_extension": ".py",
   "mimetype": "text/x-python",
   "name": "python",
   "nbconvert_exporter": "python",
   "pygments_lexer": "ipython3",
   "version": "3.10.12"
  }
 },
 "nbformat": 4,
 "nbformat_minor": 5
}
